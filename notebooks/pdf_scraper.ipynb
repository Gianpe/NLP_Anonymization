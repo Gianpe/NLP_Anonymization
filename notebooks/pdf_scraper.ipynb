{
 "cells": [
  {
   "cell_type": "code",
   "execution_count": 1,
   "metadata": {},
   "outputs": [],
   "source": [
    "from urllib import request\n",
    "\n",
    "def download_file(download_url,name):\n",
    "    request.urlretrieve(download_url, f'{name}.pdf')"
   ]
  },
  {
   "cell_type": "code",
   "execution_count": 2,
   "metadata": {},
   "outputs": [],
   "source": [
    "download_file('http://www.italgiure.giustizia.it/xway/application/nif/clean/hc.dll?verbo=attach&db=snpen&id=./20211109/snpen@s20@a2021@n40338@tS.clean.pdf','sentenza')"
   ]
  },
  {
   "cell_type": "code",
   "execution_count": 4,
   "metadata": {},
   "outputs": [],
   "source": [
    "import PyPDF2"
   ]
  },
  {
   "cell_type": "code",
   "execution_count": 5,
   "metadata": {},
   "outputs": [],
   "source": [
    "pdfFileObj = open('sentenza.pdf', 'rb')\n",
    "pdfReader = PyPDF2.PdfFileReader(pdfFileObj)"
   ]
  },
  {
   "cell_type": "code",
   "execution_count": 6,
   "metadata": {},
   "outputs": [
    {
     "data": {
      "text/plain": [
       "22"
      ]
     },
     "execution_count": 6,
     "metadata": {},
     "output_type": "execute_result"
    }
   ],
   "source": [
    "pdfReader.numPages"
   ]
  },
  {
   "cell_type": "code",
   "execution_count": 7,
   "metadata": {},
   "outputs": [],
   "source": [
    "pageObj = pdfReader.getPage(0)"
   ]
  },
  {
   "cell_type": "code",
   "execution_count": 8,
   "metadata": {},
   "outputs": [
    {
     "data": {
      "text/plain": [
       "\"SENTENZA sui ricorsi proposti da: BELFIORE TOMMASO EMANUELE CINCINNATO MARCELLO EPICOCO ANTONIO GUARINI EMANUELE avverso la sentenza del 26/09/2019 nato a MESAGNE il 24/09/1968 nato a MESAGNE il 30/11/1967 nato a BRINDISI il 23/06/1974 nato a MESAGNE il 14/06/1974 della CORTE DI ASSISE DI APPELLO DI TARANTO visti gli atti, il provvedimento impugnato e i ricorsi; udita la relazione svolta dal Consigliere Piero MESSINI D'AGOSTINI; udito il Pubblico Ministero, in persona del Sostituto Procuratore generale Fulvio BALDI, che ha concluso per l'annullamento con rinvio riguardo alle posizioni di Cincinnato, Epicoco e Guarini e per l'inammissibilità del ricorso di Belfiore; 1 Penale Sent. Sez. 2   Num. 40338  Anno 2021Presidente: DIOTALLEVI GIOVANNIRelatore: MESSINI D'AGOSTINI PIEROData Udienza: 19/10/2021\""
      ]
     },
     "execution_count": 8,
     "metadata": {},
     "output_type": "execute_result"
    }
   ],
   "source": [
    "pageObj.extractText()"
   ]
  },
  {
   "cell_type": "code",
   "execution_count": null,
   "metadata": {},
   "outputs": [],
   "source": []
  }
 ],
 "metadata": {
  "kernelspec": {
   "display_name": "Python 3",
   "language": "python",
   "name": "python3"
  },
  "language_info": {
   "codemirror_mode": {
    "name": "ipython",
    "version": 3
   },
   "file_extension": ".py",
   "mimetype": "text/x-python",
   "name": "python",
   "nbconvert_exporter": "python",
   "pygments_lexer": "ipython3",
   "version": "3.7.6"
  }
 },
 "nbformat": 4,
 "nbformat_minor": 4
}
